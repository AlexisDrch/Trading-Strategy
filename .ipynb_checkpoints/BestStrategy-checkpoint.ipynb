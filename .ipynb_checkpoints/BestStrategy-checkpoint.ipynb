{
 "cells": [
  {
   "cell_type": "code",
   "execution_count": 40,
   "metadata": {
    "collapsed": false
   },
   "outputs": [],
   "source": [
    "import pandas as pd\n",
    "import numpy as np\n",
    "import datetime as dt\n",
    "import os\n",
    "from util import get_data, plot_data\n",
    "import csv\n",
    "\n",
    "def author():\n",
    "    return 'adurocher3'\n",
    "\n",
    "def get_portfolio_value(df_prices, df_trades, symbol):\n",
    "    best_df = pd.concat([df_prices, df_trades], axis = 1)\n",
    "    best_df['holding'] = best_df.trades.cumsum(axis = 0) * best_df[symbol]\n",
    "    best_df['cash'] = - best_df[symbol] * best_df.trades + sv\n",
    "    port_val = pd.DataFrame(best_df.holding + best_df.cash, columns=['best portfolio'])\n",
    "    return port_val\n",
    "\n",
    "def compute_portfolio_stats(prices, rfr = 0.0, sf = 252.0):\n",
    "    \n",
    "    port_val = prices\n",
    "    # daily returns on portfolio value\n",
    "    daily_rets = (port_val / port_val.shift(1)) - 1\n",
    "    daily_rets = daily_rets[1:]\n",
    "\n",
    "    cr = (port_val.iloc[-1] / port_val.iloc[0]) - 1\n",
    "    adr = daily_rets.mean()\n",
    "    sddr = daily_rets.std()\n",
    "    sr = np.sqrt(sf) * ((adr - rfr) / sddr)\n",
    "\n",
    "    return cr, adr, sddr, sr\n",
    "\n",
    "def get_benchmark(df_prices, sv = 100000):\n",
    "    df_trades = pd.DataFrame(data = np.zeros((len(df_prices),2)), \n",
    "                             index = df_prices.index, columns=['benchmark', 'cash'])\n",
    "    # BUY 1000 JPM and hold\n",
    "    df_trades.iloc[0] = [1000, 100000 - 1000 * df_prices.iloc[0]]\n",
    "    df_holdings = df_trades.cumsum(axis = 0)\n",
    "    df_holdings.benchmark *= df_prices\n",
    "    df_portval = df_holdings.sum(axis = 1)\n",
    "    return df_portval\n",
    "\n",
    "def testPolicy(symbol = 'JPM', sd=dt.datetime(2010,1,1), ed=dt.datetime(2011,12,31), sv = 100000):\n",
    "    df_prices_all = get_data([symbol], pd.date_range(sd, ed))\n",
    "    df_prices = df_prices_all[symbol]\n",
    "    \n",
    "    df_trades = pd.DataFrame(data = np.zeros(len(df_prices)), index = df_prices.index, columns=['trades'])\n",
    "    \n",
    "    for t in range(1, len(df_prices)-1):\n",
    "        # buy signal \n",
    "        if df_prices[t-1] >= df_prices[t] < df_prices[t+1]:\n",
    "            df_trades.iloc[t] = 1000\n",
    "        # sell signal\n",
    "        if df_prices[t-1] <= df_prices[t] > df_prices[t+1]:\n",
    "            df_trades.iloc[t] = -1000\n",
    "    \n",
    "    return df_trades"
   ]
  },
  {
   "cell_type": "code",
   "execution_count": 41,
   "metadata": {
    "collapsed": false
   },
   "outputs": [
    {
     "data": {
      "text/html": [
       "<div>\n",
       "<table border=\"1\" class=\"dataframe\">\n",
       "  <thead>\n",
       "    <tr style=\"text-align: right;\">\n",
       "      <th></th>\n",
       "      <th>trades</th>\n",
       "    </tr>\n",
       "  </thead>\n",
       "  <tbody>\n",
       "    <tr>\n",
       "      <th>2008-01-02</th>\n",
       "      <td>0.0</td>\n",
       "    </tr>\n",
       "    <tr>\n",
       "      <th>2008-01-03</th>\n",
       "      <td>0.0</td>\n",
       "    </tr>\n",
       "    <tr>\n",
       "      <th>2008-01-04</th>\n",
       "      <td>1000.0</td>\n",
       "    </tr>\n",
       "    <tr>\n",
       "      <th>2008-01-07</th>\n",
       "      <td>-1000.0</td>\n",
       "    </tr>\n",
       "    <tr>\n",
       "      <th>2008-01-08</th>\n",
       "      <td>1000.0</td>\n",
       "    </tr>\n",
       "  </tbody>\n",
       "</table>\n",
       "</div>"
      ],
      "text/plain": [
       "            trades\n",
       "2008-01-02     0.0\n",
       "2008-01-03     0.0\n",
       "2008-01-04  1000.0\n",
       "2008-01-07 -1000.0\n",
       "2008-01-08  1000.0"
      ]
     },
     "execution_count": 41,
     "metadata": {},
     "output_type": "execute_result"
    }
   ],
   "source": [
    "best_df_trades_in = testPolicy('JPM', dt.datetime(2008,1,1), dt.datetime(2009, 12, 31))\n",
    "best_df_trades_in.head(n=5)"
   ]
  },
  {
   "cell_type": "code",
   "execution_count": 52,
   "metadata": {
    "collapsed": false
   },
   "outputs": [
    {
     "data": {
      "text/html": [
       "<div>\n",
       "<table border=\"1\" class=\"dataframe\">\n",
       "  <thead>\n",
       "    <tr style=\"text-align: right;\">\n",
       "      <th></th>\n",
       "      <th>best portfolio</th>\n",
       "    </tr>\n",
       "  </thead>\n",
       "  <tbody>\n",
       "    <tr>\n",
       "      <th>2008-01-02</th>\n",
       "      <td>100000.0</td>\n",
       "    </tr>\n",
       "    <tr>\n",
       "      <th>2008-01-03</th>\n",
       "      <td>100000.0</td>\n",
       "    </tr>\n",
       "    <tr>\n",
       "      <th>2008-01-04</th>\n",
       "      <td>100000.0</td>\n",
       "    </tr>\n",
       "    <tr>\n",
       "      <th>2008-01-07</th>\n",
       "      <td>137710.0</td>\n",
       "    </tr>\n",
       "    <tr>\n",
       "      <th>2008-01-08</th>\n",
       "      <td>100000.0</td>\n",
       "    </tr>\n",
       "  </tbody>\n",
       "</table>\n",
       "</div>"
      ],
      "text/plain": [
       "            best portfolio\n",
       "2008-01-02        100000.0\n",
       "2008-01-03        100000.0\n",
       "2008-01-04        100000.0\n",
       "2008-01-07        137710.0\n",
       "2008-01-08        100000.0"
      ]
     },
     "execution_count": 52,
     "metadata": {},
     "output_type": "execute_result"
    }
   ],
   "source": [
    "#for report only\n",
    "symbol = 'JPM'\n",
    "sd=dt.datetime(2008,1,1)\n",
    "ed=dt.datetime(2009,12,31)\n",
    "sv = 100000\n",
    "df_prices_all = get_data([symbol], pd.date_range(sd, ed))\n",
    "df_prices = df_prices_all[symbol]\n",
    "benchmark = pd.DataFrame(get_benchmark(df_prices))\n",
    "\n",
    "port_val = get_portfolio_value(df_prices, best_df_trades_in, symbol)\n",
    "port_val.head(n=5)"
   ]
  },
  {
   "cell_type": "code",
   "execution_count": 8,
   "metadata": {
    "collapsed": false
   },
   "outputs": [
    {
     "ename": "NameError",
     "evalue": "name 'port_val' is not defined",
     "output_type": "error",
     "traceback": [
      "\u001b[0;31m---------------------------------------------------------------------------\u001b[0m",
      "\u001b[0;31mNameError\u001b[0m                                 Traceback (most recent call last)",
      "\u001b[0;32m<ipython-input-8-193e58bddb82>\u001b[0m in \u001b[0;36m<module>\u001b[0;34m()\u001b[0m\n\u001b[1;32m      1\u001b[0m \u001b[0;31m#cr, adr, sddr, sr = compute_portfolio_stats(port_val)\u001b[0m\u001b[0;34m\u001b[0m\u001b[0;34m\u001b[0m\u001b[0m\n\u001b[1;32m      2\u001b[0m \u001b[0;31m#print(cr, adr, sddr, sr)\u001b[0m\u001b[0;34m\u001b[0m\u001b[0;34m\u001b[0m\u001b[0m\n\u001b[0;32m----> 3\u001b[0;31m \u001b[0mdf_temp\u001b[0m \u001b[0;34m=\u001b[0m \u001b[0mpd\u001b[0m\u001b[0;34m.\u001b[0m\u001b[0mconcat\u001b[0m\u001b[0;34m(\u001b[0m\u001b[0;34m[\u001b[0m\u001b[0mport_val\u001b[0m\u001b[0;34m,\u001b[0m \u001b[0mbenchmark\u001b[0m\u001b[0;34m]\u001b[0m\u001b[0;34m,\u001b[0m \u001b[0mkeys\u001b[0m\u001b[0;34m=\u001b[0m\u001b[0;34m[\u001b[0m\u001b[0;34m'Portfolio'\u001b[0m\u001b[0;34m,\u001b[0m \u001b[0;34m'Benchmark'\u001b[0m\u001b[0;34m]\u001b[0m\u001b[0;34m,\u001b[0m \u001b[0maxis\u001b[0m\u001b[0;34m=\u001b[0m\u001b[0;36m1\u001b[0m\u001b[0;34m)\u001b[0m\u001b[0;34m\u001b[0m\u001b[0m\n\u001b[0m\u001b[1;32m      4\u001b[0m \u001b[0;31m#normalize for plot\u001b[0m\u001b[0;34m\u001b[0m\u001b[0;34m\u001b[0m\u001b[0m\n\u001b[1;32m      5\u001b[0m \u001b[0mdf_temp\u001b[0m \u001b[0;34m=\u001b[0m \u001b[0mdf_temp\u001b[0m \u001b[0;34m/\u001b[0m \u001b[0mdf_temp\u001b[0m\u001b[0;34m.\u001b[0m\u001b[0miloc\u001b[0m\u001b[0;34m[\u001b[0m\u001b[0;36m0\u001b[0m\u001b[0;34m]\u001b[0m\u001b[0;34m\u001b[0m\u001b[0m\n",
      "\u001b[0;31mNameError\u001b[0m: name 'port_val' is not defined"
     ]
    }
   ],
   "source": [
    "#cr, adr, sddr, sr = compute_portfolio_stats(port_val)\n",
    "#print(cr, adr, sddr, sr)\n",
    "df_temp = pd.concat([port_val, benchmark], keys=['Portfolio', 'Benchmark'], axis=1)\n",
    "#normalize for plot\n",
    "df_temp = df_temp / df_temp.iloc[0]\n",
    "plot_data(df_temp)"
   ]
  }
 ],
 "metadata": {
  "kernelspec": {
   "display_name": "Python 3",
   "language": "python",
   "name": "python3"
  },
  "language_info": {
   "codemirror_mode": {
    "name": "ipython",
    "version": 3
   },
   "file_extension": ".py",
   "mimetype": "text/x-python",
   "name": "python",
   "nbconvert_exporter": "python",
   "pygments_lexer": "ipython3",
   "version": "3.6.0"
  }
 },
 "nbformat": 4,
 "nbformat_minor": 2
}
